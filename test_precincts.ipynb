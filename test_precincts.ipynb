{
 "cells": [
  {
   "cell_type": "code",
   "execution_count": 30,
   "metadata": {
    "collapsed": false
   },
   "outputs": [],
   "source": [
    "# create a 8 x 10 array of square precincts in GEOJson format with varying vote totals for each of two parties: d and r\n",
    "# each precinct has a population of 100.  Use these precincts to test gerrymandering algorithms.  It should be possible to get one\n",
    "# party to win at least 6 of 8 districts.  Might want to alter this program to parameterize the size and vote distribution\n",
    "# to test different configurations.\n",
    "\n",
    "\n",
    "from collections import OrderedDict\n",
    "\n",
    "# empty shell that will become the GeoJson storing the precincts\n",
    "data = {\n",
    "    \"type\": \"FeatureCollection\",\n",
    "    \"features\": []\n",
    "}\n",
    "\n",
    "# generate precincts by looping through rows (i) and columns(j), \n",
    "# creating cells with dimension 1 unit x 1 unit\n",
    "for i in range(8):\n",
    "    for j in range(10):\n",
    "        id = 10 * i + j + 1\n",
    "        feature = {\n",
    "            \"geometry\": {\n",
    "                \"type\": \"Polygon\",\n",
    "                \"coordinates\": [[[j, i], [j+1, i], [j+1, i+1], [j, i+1], [j, i]]]  # coord pairs for a square with dimension 1 unit x 1 unit.\n",
    "            },\n",
    "            \"type\": \"Feature\",\n",
    "            \"properties\": OrderedDict({\n",
    "                \"id\": id,\n",
    "                \"d_vote\": 90 - 5 * (i + j),  # number of votes going to the d party.  Starts highest in lower left, decreases by 5 for every precinct you move away (rook case)\n",
    "                \"r_vote\": 10 + 5 * (i + j),  # number of votes for r party.  Inverse of d party votes\n",
    "                \"pop\": 100  # total population of the precinct\n",
    "            })\n",
    "        }\n",
    "        data[\"features\"].append(feature)"
   ]
  },
  {
   "cell_type": "code",
   "execution_count": 31,
   "metadata": {
    "collapsed": true
   },
   "outputs": [],
   "source": [
    "# write the data to a file called precincts.egojson\n",
    "with open('precincts.geojson', 'w') as fh:\n",
    "    json.dump(data, fh)"
   ]
  }
 ],
 "metadata": {
  "anaconda-cloud": {},
  "kernelspec": {
   "display_name": "Python [conda root]",
   "language": "python",
   "name": "conda-root-py"
  },
  "language_info": {
   "codemirror_mode": {
    "name": "ipython",
    "version": 3
   },
   "file_extension": ".py",
   "mimetype": "text/x-python",
   "name": "python",
   "nbconvert_exporter": "python",
   "pygments_lexer": "ipython3",
   "version": "3.5.2"
  }
 },
 "nbformat": 4,
 "nbformat_minor": 1
}
